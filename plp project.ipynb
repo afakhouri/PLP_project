{
 "cells": [
  {
   "cell_type": "code",
   "execution_count": 1,
   "metadata": {},
   "outputs": [],
   "source": [
    "# -*- coding: utf-8 -*-\n",
    "\"\"\"\n",
    "Created on Mon jan  6 15:43:48 2019\n",
    "\n",
    "@author: Ali, Mohammed\n",
    "\"\"\"\n",
    "\n",
    "from pyspark.sql import SparkSession\n",
    "from pyspark.ml import PipelineModel,Pipeline\n",
    "from pyspark.ml.classification import RandomForestClassifier as RF\n",
    "from pyspark.ml.feature import StringIndexer, VectorIndexer, VectorAssembler, SQLTransformer,IndexToString, StringIndexer, VectorIndexer,StandardScaler,OneHotEncoder\n",
    "from pyspark.ml.evaluation import MulticlassClassificationEvaluator, BinaryClassificationEvaluator\n",
    "from pyspark.ml.tuning import CrossValidator, ParamGridBuilder\n",
    "import numpy as np\n",
    "import functools\n",
    "from pyspark.sql.functions import udf\n",
    "from numpy.random import randint\n",
    "from pyspark.mllib.evaluation import BinaryClassificationMetrics as metric\n",
    "import pandas as pd\n",
    "import matplotlib.pyplot as plt\n",
    "from imblearn.over_sampling import *\n",
    "import seaborn as sns\n",
    "from pyspark.sql import *\n",
    "import time"
   ]
  },
  {
   "cell_type": "code",
   "execution_count": 2,
   "metadata": {},
   "outputs": [],
   "source": [
    "# function to create a SparkSession or get it if is done\n",
    "def get_spark():\n",
    "    return (SparkSession.builder\n",
    "                .master(\"local\")\n",
    "                .appName(\"mineropredict_v1\")\n",
    "                .getOrCreate())"
   ]
  },
  {
   "cell_type": "code",
   "execution_count": 3,
   "metadata": {},
   "outputs": [],
   "source": [
    "# as petrophysicien prefer to rescale RHOB2 in the scale of dif to interpret their result\n",
    "# we scale features RHOB2 in the scale of dif\n",
    "def preprocess(dataframe):\n",
    "    dataframe = dataframe.withColumn(\"RHOB2\",0.6*(dataframe.RHOB-1.95)-0.15 )\n",
    "    dataframe = dataframe.withColumn(\"dif\",dataframe.RHOB2-dataframe.NPHI )    \n",
    "    dataframe=dataframe.na.drop()\n",
    "    return dataframe"
   ]
  },
  {
   "cell_type": "code",
   "execution_count": 4,
   "metadata": {},
   "outputs": [],
   "source": [
    "# upload model for each mineral from the output file\n",
    "def upload_models(output_folder,minerals_set=[\"Halite\",\"Anhydrite\",\"Illite\",\"Quartz\",\"Dolomite\",\"Calcite\"]):\n",
    "    models={}  \n",
    "    for i in minerals_set:\n",
    "        models[i]=PipelineModel.load(\"{}/{}\".format(output_folder,i))\n",
    "    return models"
   ]
  },
  {
   "cell_type": "code",
   "execution_count": 19,
   "metadata": {},
   "outputs": [],
   "source": [
    "# function to subsample data to get balanced classes\n",
    "# also use to augment the data size\n",
    "def balance(df, sqlContext, classes_sizes, label):\n",
    "    df_ = df.toPandas()  \n",
    "    \n",
    "    over_sambler = SMOTE(sampling_strategy=classes_sizes, random_state=69\n",
    "                       )\n",
    "    \n",
    "    print(df_[label].unique())\n",
    "    features = list(set(df_.columns) - set(label))\n",
    "    X_resampled, y_resampled = over_sambler.fit_resample(df_[features].values,\n",
    "                                                df_[label].values)\n",
    "    df_sampled = np.append(y_resampled.reshape(-1, 1),\n",
    "                                        X_resampled, axis=1).tolist()\n",
    "    return sqlContext.createDataFrame(df_sampled, schema = df.columns)"
   ]
  },
  {
   "cell_type": "code",
   "execution_count": 6,
   "metadata": {},
   "outputs": [],
   "source": [
    "# function to evaluate the accuracy of the model in the test data\n",
    "def evaluate(testData,mineral):\n",
    "    evaluator = MulticlassClassificationEvaluator(labelCol=\"index_\"+mineral, \n",
    "                                predictionCol=\"prediction\", metricName=\"accuracy\")\n",
    "    accuracy = evaluator.evaluate(testData)\n",
    "    print(\"Test accuracy for {} = {}\".format(mineral,accuracy))"
   ]
  },
  {
   "cell_type": "code",
   "execution_count": 22,
   "metadata": {},
   "outputs": [],
   "source": [
    "def pipeline_simple(out,data):\n",
    "#threshold to binarize the mineral 1 if it's bigger else 0\n",
    "    cuts={\"Halite\":0.7,\"Anhydrite\":0.75,\"Illite\":0.3,\"Calcite\":0.45,\"Dolomite\":0.5,\"Quartz\":0.4}\n",
    "# names features groubed by set\n",
    "    cols_now2 = ['dif','RHOB2','NPHI']\n",
    "    cols_now3 = [\"DEEPRES\",\"GR\"]\n",
    "    cols_now4 = ['RHOB2','NPHI',\"scaled_features\"]\n",
    "# convert float (0 or 1) into string \n",
    "    string_indexer = StringIndexer(inputCol=\"index\"+out, outputCol=\"index_\"+out).fit(data)\n",
    "    if out==\"Halite\" or out==\"Anhydrite\":\n",
    "# reshape features to list of tuplet \n",
    "        assembler_features = VectorAssembler(inputCols=cols_now2, outputCol='features')\n",
    "# we model our data with random forest \n",
    "        rf = RF(labelCol='index_'+out, featuresCol='features',numTrees=150,maxDepth=20)\n",
    "# to convert type of output (string to float)        \n",
    "        labelConverter = IndexToString(inputCol=\"prediction\", outputCol=\"predicted_\"+out,labels=string_indexer.labels)\n",
    "        tmp = [string_indexer,assembler_features,rf,labelConverter]\n",
    "        pipeline = Pipeline(stages=tmp)\n",
    "    else:\n",
    "        assembler_features = VectorAssembler(inputCols=cols_now3, outputCol='features1')\n",
    "# scale features mean 0 and variance 1\n",
    "        scaler = StandardScaler(inputCol=\"features1\", outputCol=\"scaled_features\", withStd=True, withMean=True)\n",
    "        assembler_features2 = VectorAssembler(inputCols=cols_now4, outputCol='features')\n",
    "        rf = RF(labelCol='index_'+out, featuresCol='features',numTrees=150,maxDepth=20)\n",
    "        labelConverter = IndexToString(inputCol=\"prediction\", outputCol=\"predicted_\"+out,labels=string_indexer.labels)\n",
    "        tmp=[string_indexer,assembler_features,scaler,assembler_features2,rf,labelConverter]\n",
    "        pipeline=Pipeline(stages=tmp)\n",
    "\n",
    "    return pipeline.fit(data)"
   ]
  },
  {
   "cell_type": "code",
   "execution_count": 23,
   "metadata": {},
   "outputs": [],
   "source": [
    "def learn(dataframe, output_folder, sqlContext, classes_sizes, evaluation=True,cuts=\n",
    "          {\"Halite\":0.7,\"Anhydrite\":0.75,\"Illite\":0.3,\"Calcite\":0.45,\n",
    "           \"Dolomite\":0.5,\"Quartz\":0.4}):\n",
    "# preprocess dataframe\n",
    "    time_ = []\n",
    "    t = time.time()\n",
    "    dataframe=preprocess(dataframe)\n",
    "    for out in cuts:\n",
    "# binarize the mineral 1 if it's bigger else 0\n",
    "            cut = lambda x:1 if x>cuts[out] else 0\n",
    "            cutoff = udf(cut)\n",
    "            df=dataframe.withColumn(\"index\"+out,cutoff(out))\n",
    "            df_subsample = balance(df, sqlContext, classes_sizes, out)\n",
    "            if evaluation==False:\n",
    "                model=pipeline_simple(out,df_subsample)\n",
    "                model.write().overwrite().save(\"{}/{}\".format(output_folder,out))\n",
    "                t = time.time() - t\n",
    "                time_.append(t)\n",
    "                t = time.time()\n",
    "            else:\n",
    "                trainingData, testData = df_subsample.randomSplit([0.7,0.3], seed=69) \n",
    "                model=pipeline_simple(out,trainingData)\n",
    "                testData=model.transform(testData)\n",
    "                evaluate(testData,out)\n",
    "                model.write().overwrite().save(\"{}/{}\".format(output_folder,out))\n",
    "                t = time.time() - t\n",
    "                time_.append(t)\n",
    "                t = time.time()\n",
    "    return time_"
   ]
  },
  {
   "cell_type": "code",
   "execution_count": 9,
   "metadata": {},
   "outputs": [],
   "source": [
    "def predict(models_folder,dataframe,minerals_set=[\"Halite\",\"Anydrite\",\"Calcite\",\"Quartz\",\"Illite\",\"Dolomite\"],visualize=True):\n",
    "    models=upload_models(models_folder,minerals_set)\n",
    "    for mineral in minerals_set:\n",
    "        if mineral in dataframe.columns:\n",
    "            dataframe=dataframe.drop(mineral)\n",
    "        dataframe=preprocess(dataframe)\n",
    "        dataframe=models[mineral].transform(dataframe)\n",
    "        dataframe = dataframe.withColumn(\"probability_\"+mineral,dataframe.probability)\n",
    "        dataframe=dataframe.drop(\"prediction\",\"probability\",\"rawPrediction\",\"features\",\"features1\",\"scaled_features\")\n",
    "    if visualize:\n",
    "        for mineral in minerals_set:\n",
    "            fig,ax=plt.subplots()\n",
    "            df_visu=dataframe.toPandas()\n",
    "            pd.to_numeric(df_visu[\"predicted_\"+mineral]).plot()\n",
    "            plt.title(mineral)\n",
    "            ax.set_xlabel(\"depth\")\n",
    "            ax.set_ylabel(\"predictions\")\n",
    "            plt.show()\n",
    "\n",
    "    result = dataframe#.toPandas()  \n",
    "    \n",
    "    return result"
   ]
  }
 ],
 "metadata": {
  "kernelspec": {
   "display_name": "Python 3",
   "language": "python",
   "name": "python3"
  },
  "language_info": {
   "codemirror_mode": {
    "name": "ipython",
    "version": 3
   },
   "file_extension": ".py",
   "mimetype": "text/x-python",
   "name": "python",
   "nbconvert_exporter": "python",
   "pygments_lexer": "ipython3",
   "version": "3.6.5"
  }
 },
 "nbformat": 4,
 "nbformat_minor": 2
}
